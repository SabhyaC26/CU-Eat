{
 "cells": [
  {
   "cell_type": "code",
   "execution_count": 1,
   "metadata": {},
   "outputs": [],
   "source": [
    "from selenium import webdriver\n",
    "from selenium.webdriver.common.by import By\n",
    "from selenium.webdriver.support.ui import WebDriverWait\n",
    "from selenium.webdriver.support import expected_conditions as EC"
   ]
  },
  {
   "cell_type": "code",
   "execution_count": 2,
   "metadata": {},
   "outputs": [
    {
     "name": "stdout",
     "output_type": "stream",
     "text": [
      "Enter your favorite food item? \n",
      "\n"
     ]
    }
   ],
   "source": [
    "# get input from the user on the classes that they are taking\n",
    "food_item = input(\"Enter your favorite food item? \")\n",
    "print(food_item)"
   ]
  },
  {
   "cell_type": "code",
   "execution_count": 3,
   "metadata": {},
   "outputs": [
    {
     "name": "stdout",
     "output_type": "stream",
     "text": [
      "['https://now.dining.cornell.edu/eatery/North-Star', 'https://now.dining.cornell.edu/eatery/RPCC-Marketplace', 'https://now.dining.cornell.edu/eatery/Becker-House-Dining', 'https://now.dining.cornell.edu/eatery/Cook-House-Dining', 'https://now.dining.cornell.edu/eatery/Jansens-Dining', 'https://now.dining.cornell.edu/eatery/Keeton-House-Dining', 'https://now.dining.cornell.edu/eatery/Okenshields', 'https://now.dining.cornell.edu/eatery/RPCC-Marketplace', 'https://now.dining.cornell.edu/eatery/Risley-Dining', 'https://now.dining.cornell.edu/eatery/Rose-House-Dining']\n"
     ]
    }
   ],
   "source": [
    "dining_halls = ['North-Star', 'RPCC-Marketplace', 'Becker-House-Dining', 'Cook-House-Dining', 'Jansens-Dining', 'Keeton-House-Dining', 'Okenshields', 'RPCC-Marketplace', 'Risley-Dining', 'Rose-House-Dining']\n",
    "urls = []\n",
    "for eatery in dining_halls:\n",
    "    urls.append('https://now.dining.cornell.edu/eatery/' + eatery)\n",
    "print(urls)"
   ]
  },
  {
   "cell_type": "code",
   "execution_count": 40,
   "metadata": {},
   "outputs": [],
   "source": [
    "driver = webdriver.Firefox()"
   ]
  },
  {
   "cell_type": "code",
   "execution_count": 8,
   "metadata": {},
   "outputs": [
    {
     "name": "stdout",
     "output_type": "stream",
     "text": [
      "\n",
      "Robert Purcell Marketplace Eatery\n",
      "Becker House Dining Room\n",
      "Cook House Dining Room\n",
      "Jansen's Dining Room at Bethe House\n",
      "Keeton House Dining Room\n",
      "Okenshields\n",
      "Robert Purcell Marketplace Eatery\n",
      "Risley Dining Room\n",
      "Rose House Dining Room\n"
     ]
    }
   ],
   "source": [
    "for url in urls:\n",
    "    driver.get(url)        \n",
    "    try:\n",
    "        heading1 = WebDriverWait(driver, 10).until(\n",
    "            EC.presence_of_element_located((By.TAG_NAME, \"h2\"))\n",
    "        )\n",
    "    finally:\n",
    "        print(heading1.text)"
   ]
  },
  {
   "cell_type": "code",
   "execution_count": 30,
   "metadata": {},
   "outputs": [
    {
     "name": "stdout",
     "output_type": "stream",
     "text": [
      "The North Star Dining Room is an All You Care To Eat dining room for house residents, and for the entire Cornell community. Enjoy an open kitchen concept and numerous unique food stations serving a huge variety of ethnic and regional American cuisine.\n",
      "\n",
      "More Info: North Star Dining Room\n",
      "The Robert Purcell Marketplace Eatery is an award-winning All You Care To Eat dining room with a huge variety of menu options. Chef Kevin Moore, who has been with Cornell Dining for over 25 years, most recently at 104West!, plans creative menus with roots in a variety of international traditions.\n",
      "\n",
      "More Info: Robert Purcell Marketplace Eatery\n",
      "The Becker House Dining Room is an All You Care To Eat dining room for house residents, and for the entire Cornell community. This eatery serves continental breakfast on weekdays, brunch/lunch on weekends, and dinner seven nights a week.\n",
      "\n",
      "More Info: Becker House Dining Room\n",
      "The Cook House Dining Room is an All You Care To Eat dining room for house residents, and for the entire Cornell community. The eatery serves hot breakfast on weekdays, brunch/lunch on weekends, and dinner seven nights a week.\n",
      "\n",
      "More Info: Cook House Dining Room\n",
      "Jansen's Dining Room at Bethe House is an All You Care To Eat dining room for house residents, and for the entire Cornell community. Chef Jacob Kuehn puts together exciting new menus throughout the year. This eatery serves continental breakfast on weekdays, brunch/lunch on weekends, and dinner seven nights a week.\n",
      "\n",
      "More Info: Jansen's Dining Room at Bethe House\n",
      "The Keeton House Dining Room is an All You Care To Eat dining room for house residents, and for the entire Cornell community. Sample Chef Nery's unique menu offerings in the entrée station, Asian station, grill, deli, and salad bar. This eatery serves hot breakfast on weekdays, brunch/lunch on weekends, and dinner seven nights a week.\n",
      "\n",
      "More Info: Keeton House Dining Room\n",
      "Okenshields is an All You Care To Eat dining room for house residents, and for the entire Cornell community. With hundreds of menu options to choose from – from an Asian station to a healthy foods bar featuring whole grain salads and cut fruit – you're sure to find something that meets your fancy.\n",
      "\n",
      "More Info: Okenshields\n",
      "The Robert Purcell Marketplace Eatery is an award-winning All You Care To Eat dining room with a huge variety of menu options. Chef Kevin Moore, who has been with Cornell Dining for over 25 years, most recently at 104West!, plans creative menus with roots in a variety of international traditions.\n",
      "\n",
      "More Info: Robert Purcell Marketplace Eatery\n",
      "Risley Dining Room is an All You Care To Eat dining room for house residents, and for the entire Cornell community. Modeled after the Christchurch Refectory at Oxford University, the dining room maintains the same Gothic charm as when it first opened as the all-Ivy \"Risley Great Hall\" in 1913.\n",
      "\n",
      "More Info: Risley Dining Room\n",
      "The Rose House Dining Room is an All You Care To Eat dining room for house residents, and for the entire Cornell community. This eatery features traditional hot entrees, an Asian station, a grill, a deli, and a salad bar. Sample Chef Daniel Czebiniak's daily menu options – you won't be disappointed!\n",
      "\n",
      "More Info: Rose House Dining Room\n"
     ]
    }
   ],
   "source": [
    "for url in urls:\n",
    "    driver.get(url)        \n",
    "    try:\n",
    "        about = WebDriverWait(driver, 10).until(\n",
    "            EC.presence_of_element_located((By.TAG_NAME, \"p.ng-binding:nth-child(2)\"))\n",
    "        )\n",
    "    finally:\n",
    "        print(about.text) "
   ]
  },
  {
   "cell_type": "code",
   "execution_count": 31,
   "metadata": {},
   "outputs": [
    {
     "name": "stdout",
     "output_type": "stream",
     "text": [
      "7:00am – 8:30am\n",
      "11:30am – 1:30pm\n",
      "5:00pm – 6:30pm\n",
      "Closing soon, Opens at 2:00pm\n"
     ]
    }
   ],
   "source": [
    "driver.get(urls[0])        \n",
    "try:\n",
    "    day1 = WebDriverWait(driver, 10).until(\n",
    "        EC.presence_of_element_located((By.TAG_NAME, \"div.col-xs-12:nth-child(3) > div:nth-child(3) > div:nth-child(2) > div:nth-child(1)\"))\n",
    "    )\n",
    "finally:\n",
    "    print(day1.text)"
   ]
  },
  {
   "cell_type": "code",
   "execution_count": 42,
   "metadata": {},
   "outputs": [
    {
     "name": "stdout",
     "output_type": "stream",
     "text": [
      "Apple Bread Pudding With Bourbon Caramel •\n",
      "Bacon •\n",
      "Home Fries •\n",
      "Scrambled Eggs •\n",
      "Hard Boiled Eggs\n"
     ]
    }
   ],
   "source": [
    "driver.get(urls[0])        \n",
    "try:\n",
    "    b1 = WebDriverWait(driver, 10).until(\n",
    "        EC.presence_of_element_located((By.TAG_NAME, \"div.col-xs-12:nth-child(3) > div:nth-child(3) > div:nth-child(2) > div:nth-child(2) > accordion:nth-child(1) > div:nth-child(1) > div:nth-child(1) > div:nth-child(1) > h4:nth-child(1) > a:nth-child(1) > span:nth-child(1) > span:nth-child(1)\"))\n",
    "    )\n",
    "    l1 = WebDriverWait(driver, 10).until(\n",
    "        EC.presence_of_element_located((By.TAG_NAME, \"div.col-xs-12:nth-child(3) > div:nth-child(3) > div:nth-child(2) > div:nth-child(2) > accordion:nth-child(1) > div:nth-child(1) > div:nth-child(2) > div:nth-child(1) > h4:nth-child(1) > a:nth-child(1) > span:nth-child(1) > span:nth-child(1)\"))\n",
    "    )\n",
    "    d1 = WebDriverWait(driver, 10).until(\n",
    "        EC.presence_of_element_located((By.TAG_NAME, \"div.col-xs-12:nth-child(3) > div:nth-child(3) > div:nth-child(2) > div:nth-child(2) > accordion:nth-child(1) > div:nth-child(1) > div:nth-child(3) > div:nth-child(1) > h4:nth-child(1) > a:nth-child(1) > span:nth-child(1) > span:nth-child(1)\"))\n",
    "    )\n",
    "finally:\n",
    "    b1.click()\n",
    "    l1.click()\n",
    "    d1.click()\n",
    "\n",
    "try:\n",
    "    b1m1 = WebDriverWait(driver, 10).until(\n",
    "        EC.presence_of_element_located((By.TAG_NAME, \"div.col-xs-12:nth-child(3) > div:nth-child(3) > div:nth-child(2) > div:nth-child(2) > accordion:nth-child(1) > div:nth-child(1) > div:nth-child(1) > div:nth-child(2) > div:nth-child(1) > div:nth-child(2) > p:nth-child(2) > dining-items:nth-child(1) > span:nth-child(1) > span:nth-child(1)\"))\n",
    "    )\n",
    "    b1m2 = WebDriverWait(driver, 10).until(\n",
    "        EC.presence_of_element_located((By.TAG_NAME, \"div.col-xs-12:nth-child(3) > div:nth-child(3) > div:nth-child(2) > div:nth-child(2) > accordion:nth-child(1) > div:nth-child(1) > div:nth-child(1) > div:nth-child(2) > div:nth-child(1) > div:nth-child(2) > p:nth-child(2) > dining-items:nth-child(1) > span:nth-child(1) > span:nth-child(2)\"))\n",
    "    )\n",
    "    b1m3 = WebDriverWait(driver, 10).until(\n",
    "        EC.presence_of_element_located((By.TAG_NAME, \"div.col-xs-12:nth-child(3) > div:nth-child(3) > div:nth-child(2) > div:nth-child(2) > accordion:nth-child(1) > div:nth-child(1) > div:nth-child(1) > div:nth-child(2) > div:nth-child(1) > div:nth-child(2) > p:nth-child(2) > dining-items:nth-child(1) > span:nth-child(1) > span:nth-child(3)\"))\n",
    "    )\n",
    "    b1m4 = WebDriverWait(driver, 10).until(\n",
    "        EC.presence_of_element_located((By.TAG_NAME, \"div.col-xs-12:nth-child(3) > div:nth-child(3) > div:nth-child(2) > div:nth-child(2) > accordion:nth-child(1) > div:nth-child(1) > div:nth-child(1) > div:nth-child(2) > div:nth-child(1) > div:nth-child(2) > p:nth-child(2) > dining-items:nth-child(1) > span:nth-child(1) > span:nth-child(4)\"))\n",
    "    )\n",
    "    b1m5 = WebDriverWait(driver, 10).until(\n",
    "        EC.presence_of_element_located((By.TAG_NAME, \"div.col-xs-12:nth-child(3) > div:nth-child(3) > div:nth-child(2) > div:nth-child(2) > accordion:nth-child(1) > div:nth-child(1) > div:nth-child(1) > div:nth-child(2) > div:nth-child(1) > div:nth-child(2) > p:nth-child(2) > dining-items:nth-child(1) > span:nth-child(1) > span:nth-child(5)\"))\n",
    "    )\n",
    "finally:\n",
    "    print(b1m1.text)\n",
    "    print(b1m2.text)\n",
    "    print(b1m3.text)\n",
    "    print(b1m4.text)\n",
    "    print(b1m5.text)"
   ]
  },
  {
   "cell_type": "code",
   "execution_count": null,
   "metadata": {},
   "outputs": [],
   "source": []
  }
 ],
 "metadata": {
  "kernelspec": {
   "display_name": "Python 3",
   "language": "python",
   "name": "python3"
  },
  "language_info": {
   "codemirror_mode": {
    "name": "ipython",
    "version": 3
   },
   "file_extension": ".py",
   "mimetype": "text/x-python",
   "name": "python",
   "nbconvert_exporter": "python",
   "pygments_lexer": "ipython3",
   "version": "3.6.5"
  }
 },
 "nbformat": 4,
 "nbformat_minor": 2
}
