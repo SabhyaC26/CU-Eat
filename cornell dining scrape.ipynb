{
 "cells": [
  {
   "cell_type": "code",
   "execution_count": 1,
   "metadata": {},
   "outputs": [],
   "source": [
    "from selenium import webdriver\n",
    "from selenium.webdriver.common.by import By\n",
    "from selenium.webdriver.support.ui import WebDriverWait\n",
    "from selenium.webdriver.support import expected_conditions as EC"
   ]
  },
  {
   "cell_type": "code",
   "execution_count": 17,
   "metadata": {},
   "outputs": [
    {
     "name": "stdout",
     "output_type": "stream",
     "text": [
      "Enter your favorite food item? food\n",
      "food\n"
     ]
    }
   ],
   "source": [
    "# get input from the user on the classes that they are taking\n",
    "food_item = input(\"Enter your favorite food item? \")\n",
    "print(food_item)"
   ]
  },
  {
   "cell_type": "code",
   "execution_count": 18,
   "metadata": {},
   "outputs": [
    {
     "name": "stdout",
     "output_type": "stream",
     "text": [
      "['https://now.dining.cornell.edu/eatery/North-Star', 'https://now.dining.cornell.edu/eatery/RPCC-Marketplace', 'https://now.dining.cornell.edu/eatery/Becker-House-Dining', 'https://now.dining.cornell.edu/eatery/Cook-House-Dining', 'https://now.dining.cornell.edu/eatery/Jansens-Dining', 'https://now.dining.cornell.edu/eatery/Keeton-House-Dining', 'https://now.dining.cornell.edu/eatery/Okenshields', 'https://now.dining.cornell.edu/eatery/RPCC-Marketplace', 'https://now.dining.cornell.edu/eatery/Risley-Dining', 'https://now.dining.cornell.edu/eatery/Rose-House-Dining']\n"
     ]
    }
   ],
   "source": [
    "dining_halls = ['North-Star', 'RPCC-Marketplace', 'Becker-House-Dining', 'Cook-House-Dining', 'Jansens-Dining', 'Keeton-House-Dining', 'Okenshields', 'RPCC-Marketplace', 'Risley-Dining', 'Rose-House-Dining']\n",
    "urls = []\n",
    "for eatery in dining_halls:\n",
    "    urls.append('https://now.dining.cornell.edu/eatery/' + eatery)\n",
    "print(urls)"
   ]
  },
  {
   "cell_type": "code",
   "execution_count": 19,
   "metadata": {},
   "outputs": [],
   "source": [
    "driver = webdriver.Firefox()"
   ]
  },
  {
   "cell_type": "code",
   "execution_count": 20,
   "metadata": {},
   "outputs": [
    {
     "name": "stdout",
     "output_type": "stream",
     "text": [
      "North Star Dining Room\n",
      "Robert Purcell Marketplace Eatery\n",
      "Becker House Dining Room\n",
      "Cook House Dining Room\n",
      "Jansen's Dining Room at Bethe House\n",
      "Keeton House Dining Room\n",
      "Okenshields\n",
      "Robert Purcell Marketplace Eatery\n",
      "Risley Dining Room\n",
      "Rose House Dining Room\n"
     ]
    }
   ],
   "source": [
    "for url in urls:\n",
    "    driver.get(url)        \n",
    "    try:\n",
    "        heading1 = WebDriverWait(driver, 10).until(\n",
    "            EC.presence_of_element_located((By.TAG_NAME, \"h2\"))\n",
    "        )\n",
    "    finally:\n",
    "        print(heading1.text)    "
   ]
  },
  {
   "cell_type": "code",
   "execution_count": 31,
   "metadata": {},
   "outputs": [],
   "source": [
    "dinner_link = driver.find_element_by_link_text('Dinner Menu')"
   ]
  },
  {
   "cell_type": "code",
   "execution_count": null,
   "metadata": {},
   "outputs": [],
   "source": []
  }
 ],
 "metadata": {
  "kernelspec": {
   "display_name": "Python 3",
   "language": "python",
   "name": "python3"
  },
  "language_info": {
   "codemirror_mode": {
    "name": "ipython",
    "version": 3
   },
   "file_extension": ".py",
   "mimetype": "text/x-python",
   "name": "python",
   "nbconvert_exporter": "python",
   "pygments_lexer": "ipython3",
   "version": "3.6.5"
  }
 },
 "nbformat": 4,
 "nbformat_minor": 2
}
